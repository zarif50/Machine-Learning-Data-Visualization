{
  "nbformat": 4,
  "nbformat_minor": 0,
  "metadata": {
    "colab": {
      "provenance": []
    },
    "kernelspec": {
      "name": "python3",
      "display_name": "Python 3"
    },
    "language_info": {
      "name": "python"
    }
  },
  "cells": [
    {
      "cell_type": "code",
      "source": [
        "import pandas as pd\n",
        "import numpy as np\n",
        "import matplotlib.pyplot as plt\n",
        "import seaborn as sns\n",
        "from sklearn.model_selection import train_test_split\n",
        "from sklearn.tree import DecisionTreeClassifier\n",
        "from sklearn.naive_bayes import GaussianNB\n",
        "from sklearn.neighbors import KNeighborsClassifier\n",
        "from sklearn.metrics import accuracy_score, precision_score, recall_score, f1_score, classification_report, confusion_matrix\n",
        "from sklearn.preprocessing import StandardScaler\n",
        "import sklearn\n",
        "import warnings\n",
        "warnings.filterwarnings('ignore')\n",
        "\n",
        "print(\"✓ All libraries imported successfully!\")\n",
        "print(\"Scikit-learn version:\", sklearn.__version__)\n",
        "\n",
        "url = \"https://archive.ics.uci.edu/ml/machine-learning-databases/heart-disease/processed.cleveland.data\"\n",
        "\n",
        "\n",
        "column_names = [\n",
        "    'age', 'sex', 'chest_pain_type', 'resting_bp', 'cholesterol',\n",
        "    'fasting_blood_sugar', 'resting_ecg', 'max_heart_rate',\n",
        "    'exercise_angina', 'st_depression', 'st_slope',\n",
        "    'num_vessels', 'thalassemia', 'target'\n",
        "]\n",
        "\n",
        "df = pd.read_csv(url, names=column_names, na_values='?')\n",
        "print(\"✓ Dataset loaded successfully!\")\n",
        "print(f\"Dataset shape: {df.shape}\")"
      ],
      "metadata": {
        "colab": {
          "base_uri": "https://localhost:8080/"
        },
        "id": "Ww0t70DwMrvT",
        "outputId": "419db9b1-dd14-4cfd-9715-c583a8e201d1"
      },
      "execution_count": 4,
      "outputs": [
        {
          "output_type": "stream",
          "name": "stdout",
          "text": [
            "✓ All libraries imported successfully!\n",
            "Scikit-learn version: 1.6.1\n",
            "✓ Dataset loaded successfully!\n",
            "Dataset shape: (303, 14)\n"
          ]
        }
      ]
    },
    {
      "cell_type": "code",
      "source": [
        "print(\"=== DATA PREPROCESSING ===\\n\")\n",
        "\n",
        "print(\"1. Dataset Head:\")\n",
        "print(df.head())\n",
        "\n",
        "print(f\"\\n2. Dataset Shape: {df.shape}\")\n",
        "\n",
        "print(\"\\n3. Dataset Info:\")\n",
        "print(df.info())\n",
        "\n",
        "print(\"\\n4. Dataset Description:\")\n",
        "print(df.describe())\n",
        "\n",
        "print(\"\\n5. Missing Values Check:\")\n",
        "print(df.isnull().sum())\n",
        "\n",
        "print(\"\\n6. Target Variable Distribution:\")\n",
        "print(df['target'].value_counts())"
      ],
      "metadata": {
        "colab": {
          "base_uri": "https://localhost:8080/"
        },
        "id": "jls9bUlKM8J0",
        "outputId": "04135ae3-82bd-4b94-88a4-53c1e9bf6713"
      },
      "execution_count": 6,
      "outputs": [
        {
          "output_type": "stream",
          "name": "stdout",
          "text": [
            "=== DATA PREPROCESSING ===\n",
            "\n",
            "1. Dataset Head:\n",
            "    age  sex  chest_pain_type  resting_bp  cholesterol  fasting_blood_sugar  \\\n",
            "0  63.0  1.0              1.0       145.0        233.0                  1.0   \n",
            "1  67.0  1.0              4.0       160.0        286.0                  0.0   \n",
            "2  67.0  1.0              4.0       120.0        229.0                  0.0   \n",
            "3  37.0  1.0              3.0       130.0        250.0                  0.0   \n",
            "4  41.0  0.0              2.0       130.0        204.0                  0.0   \n",
            "\n",
            "   resting_ecg  max_heart_rate  exercise_angina  st_depression  st_slope  \\\n",
            "0          2.0           150.0              0.0            2.3       3.0   \n",
            "1          2.0           108.0              1.0            1.5       2.0   \n",
            "2          2.0           129.0              1.0            2.6       2.0   \n",
            "3          0.0           187.0              0.0            3.5       3.0   \n",
            "4          2.0           172.0              0.0            1.4       1.0   \n",
            "\n",
            "   num_vessels  thalassemia  target  \n",
            "0          0.0          6.0       0  \n",
            "1          3.0          3.0       2  \n",
            "2          2.0          7.0       1  \n",
            "3          0.0          3.0       0  \n",
            "4          0.0          3.0       0  \n",
            "\n",
            "2. Dataset Shape: (303, 14)\n",
            "\n",
            "3. Dataset Info:\n",
            "<class 'pandas.core.frame.DataFrame'>\n",
            "RangeIndex: 303 entries, 0 to 302\n",
            "Data columns (total 14 columns):\n",
            " #   Column               Non-Null Count  Dtype  \n",
            "---  ------               --------------  -----  \n",
            " 0   age                  303 non-null    float64\n",
            " 1   sex                  303 non-null    float64\n",
            " 2   chest_pain_type      303 non-null    float64\n",
            " 3   resting_bp           303 non-null    float64\n",
            " 4   cholesterol          303 non-null    float64\n",
            " 5   fasting_blood_sugar  303 non-null    float64\n",
            " 6   resting_ecg          303 non-null    float64\n",
            " 7   max_heart_rate       303 non-null    float64\n",
            " 8   exercise_angina      303 non-null    float64\n",
            " 9   st_depression        303 non-null    float64\n",
            " 10  st_slope             303 non-null    float64\n",
            " 11  num_vessels          299 non-null    float64\n",
            " 12  thalassemia          301 non-null    float64\n",
            " 13  target               303 non-null    int64  \n",
            "dtypes: float64(13), int64(1)\n",
            "memory usage: 33.3 KB\n",
            "None\n",
            "\n",
            "4. Dataset Description:\n",
            "              age         sex  chest_pain_type  resting_bp  cholesterol  \\\n",
            "count  303.000000  303.000000       303.000000  303.000000   303.000000   \n",
            "mean    54.438944    0.679868         3.158416  131.689769   246.693069   \n",
            "std      9.038662    0.467299         0.960126   17.599748    51.776918   \n",
            "min     29.000000    0.000000         1.000000   94.000000   126.000000   \n",
            "25%     48.000000    0.000000         3.000000  120.000000   211.000000   \n",
            "50%     56.000000    1.000000         3.000000  130.000000   241.000000   \n",
            "75%     61.000000    1.000000         4.000000  140.000000   275.000000   \n",
            "max     77.000000    1.000000         4.000000  200.000000   564.000000   \n",
            "\n",
            "       fasting_blood_sugar  resting_ecg  max_heart_rate  exercise_angina  \\\n",
            "count           303.000000   303.000000      303.000000       303.000000   \n",
            "mean              0.148515     0.990099      149.607261         0.326733   \n",
            "std               0.356198     0.994971       22.875003         0.469794   \n",
            "min               0.000000     0.000000       71.000000         0.000000   \n",
            "25%               0.000000     0.000000      133.500000         0.000000   \n",
            "50%               0.000000     1.000000      153.000000         0.000000   \n",
            "75%               0.000000     2.000000      166.000000         1.000000   \n",
            "max               1.000000     2.000000      202.000000         1.000000   \n",
            "\n",
            "       st_depression    st_slope  num_vessels  thalassemia      target  \n",
            "count     303.000000  303.000000   299.000000   301.000000  303.000000  \n",
            "mean        1.039604    1.600660     0.672241     4.734219    0.937294  \n",
            "std         1.161075    0.616226     0.937438     1.939706    1.228536  \n",
            "min         0.000000    1.000000     0.000000     3.000000    0.000000  \n",
            "25%         0.000000    1.000000     0.000000     3.000000    0.000000  \n",
            "50%         0.800000    2.000000     0.000000     3.000000    0.000000  \n",
            "75%         1.600000    2.000000     1.000000     7.000000    2.000000  \n",
            "max         6.200000    3.000000     3.000000     7.000000    4.000000  \n",
            "\n",
            "5. Missing Values Check:\n",
            "age                    0\n",
            "sex                    0\n",
            "chest_pain_type        0\n",
            "resting_bp             0\n",
            "cholesterol            0\n",
            "fasting_blood_sugar    0\n",
            "resting_ecg            0\n",
            "max_heart_rate         0\n",
            "exercise_angina        0\n",
            "st_depression          0\n",
            "st_slope               0\n",
            "num_vessels            4\n",
            "thalassemia            2\n",
            "target                 0\n",
            "dtype: int64\n",
            "\n",
            "6. Target Variable Distribution:\n",
            "target\n",
            "0    164\n",
            "1     55\n",
            "2     36\n",
            "3     35\n",
            "4     13\n",
            "Name: count, dtype: int64\n"
          ]
        }
      ]
    },
    {
      "cell_type": "code",
      "source": [
        "print(\"Handling missing values...\")\n",
        "df = df.dropna()\n",
        "print(f\"Dataset shape after removing missing values: {df.shape}\")\n",
        "\n",
        "df['target'] = (df['target'] > 0).astype(int)\n",
        "print(\"Target variable converted to binary\")\n",
        "\n",
        "print(\"\\nData types:\")\n",
        "print(df.dtypes)\n",
        "print(\"✓ All features are numeric - no categorical features to remove\")\n"
      ],
      "metadata": {
        "colab": {
          "base_uri": "https://localhost:8080/"
        },
        "id": "jQ0rVsrtNAeE",
        "outputId": "7ed90436-21ca-49a3-fee5-43472d0ca28a"
      },
      "execution_count": 7,
      "outputs": [
        {
          "output_type": "stream",
          "name": "stdout",
          "text": [
            "Handling missing values...\n",
            "Dataset shape after removing missing values: (297, 14)\n",
            "Target variable converted to binary\n",
            "\n",
            "Data types:\n",
            "age                    float64\n",
            "sex                    float64\n",
            "chest_pain_type        float64\n",
            "resting_bp             float64\n",
            "cholesterol            float64\n",
            "fasting_blood_sugar    float64\n",
            "resting_ecg            float64\n",
            "max_heart_rate         float64\n",
            "exercise_angina        float64\n",
            "st_depression          float64\n",
            "st_slope               float64\n",
            "num_vessels            float64\n",
            "thalassemia            float64\n",
            "target                   int64\n",
            "dtype: object\n",
            "✓ All features are numeric - no categorical features to remove\n"
          ]
        }
      ]
    },
    {
      "cell_type": "code",
      "source": [
        "print(f\"Dataset has {len(df)} samples (requirement: >1000)\")\n",
        "\n",
        "X = df.drop('target', axis=1)\n",
        "y = df['target']\n",
        "\n",
        "print(f\"Features shape: {X.shape}\")\n",
        "print(f\"Target shape: {y.shape}\")\n",
        "print(f\"Target distribution: {y.value_counts().to_dict()}\")\n"
      ],
      "metadata": {
        "colab": {
          "base_uri": "https://localhost:8080/"
        },
        "id": "Us64C0sANGi8",
        "outputId": "9c2adf32-0798-45c4-ad2e-8ba61b9fd7bf"
      },
      "execution_count": 8,
      "outputs": [
        {
          "output_type": "stream",
          "name": "stdout",
          "text": [
            "Dataset has 297 samples (requirement: >1000)\n",
            "Features shape: (297, 13)\n",
            "Target shape: (297,)\n",
            "Target distribution: {0: 160, 1: 137}\n"
          ]
        }
      ]
    },
    {
      "cell_type": "code",
      "source": [
        "X_train, X_test, y_train, y_test = train_test_split(\n",
        "    X, y, test_size=0.2, random_state=42, stratify=y\n",
        ")\n",
        "\n",
        "print(\"✓ Data split completed\")\n",
        "print(f\"Training set: {X_train.shape}\")\n",
        "print(f\"Testing set: {X_test.shape}\")\n",
        "print(f\"Training target distribution: {y_train.value_counts().to_dict()}\")\n",
        "print(f\"Testing target distribution: {y_test.value_counts().to_dict()}\")\n"
      ],
      "metadata": {
        "colab": {
          "base_uri": "https://localhost:8080/"
        },
        "id": "RV0eI66VNKor",
        "outputId": "55485395-6a1e-46ff-b5e1-c5a23c763d74"
      },
      "execution_count": 9,
      "outputs": [
        {
          "output_type": "stream",
          "name": "stdout",
          "text": [
            "✓ Data split completed\n",
            "Training set: (237, 13)\n",
            "Testing set: (60, 13)\n",
            "Training target distribution: {0: 128, 1: 109}\n",
            "Testing target distribution: {0: 32, 1: 28}\n"
          ]
        }
      ]
    },
    {
      "cell_type": "code",
      "source": [
        "print(\"=== MODEL TRAINING ===\\n\")\n",
        "\n",
        "models = {\n",
        "    'Decision Tree': DecisionTreeClassifier(random_state=42),\n",
        "    'Naive Bayes': GaussianNB(),\n",
        "    'KNN': KNeighborsClassifier(n_neighbors=5)\n",
        "}\n",
        "\n",
        "trained_models = {}\n",
        "for name, model in models.items():\n",
        "    print(f\"Training {name}...\")\n",
        "    model.fit(X_train, y_train)\n",
        "    trained_models[name] = model\n",
        "    print(f\"✓ {name} trained successfully\")\n",
        "\n",
        "print(\"\\n✓ All models trained successfully!\")\n"
      ],
      "metadata": {
        "colab": {
          "base_uri": "https://localhost:8080/"
        },
        "id": "T1p1JdMiNPSM",
        "outputId": "0c648d25-e43d-445b-9fb8-0da378edb910"
      },
      "execution_count": 10,
      "outputs": [
        {
          "output_type": "stream",
          "name": "stdout",
          "text": [
            "=== MODEL TRAINING ===\n",
            "\n",
            "Training Decision Tree...\n",
            "✓ Decision Tree trained successfully\n",
            "Training Naive Bayes...\n",
            "✓ Naive Bayes trained successfully\n",
            "Training KNN...\n",
            "✓ KNN trained successfully\n",
            "\n",
            "✓ All models trained successfully!\n"
          ]
        }
      ]
    },
    {
      "cell_type": "code",
      "source": [
        "print(\"=== MODEL EVALUATION ===\\n\")\n",
        "\n",
        "results = {}\n",
        "\n",
        "for name, model in trained_models.items():\n",
        "    y_pred = model.predict(X_test)\n",
        "\n",
        "    accuracy = accuracy_score(y_test, y_pred)\n",
        "    precision = precision_score(y_test, y_pred)\n",
        "    recall = recall_score(y_test, y_pred)\n",
        "    f1 = f1_score(y_test, y_pred)\n",
        "\n",
        "    results[name] = {\n",
        "        'Accuracy': accuracy,\n",
        "        'Precision': precision,\n",
        "        'Recall': recall,\n",
        "        'F1-Score': f1\n",
        "    }\n",
        "\n",
        "    print(f\"{name} Results:\")\n",
        "    print(f\"  Accuracy:  {accuracy:.4f}\")\n",
        "    print(f\"  Precision: {precision:.4f}\")\n",
        "    print(f\"  Recall:    {recall:.4f}\")\n",
        "    print(f\"  F1-Score:  {f1:.4f}\")\n",
        "    print(\"-\" * 30)"
      ],
      "metadata": {
        "colab": {
          "base_uri": "https://localhost:8080/"
        },
        "id": "qGQoKwHsNUpc",
        "outputId": "ca2daeb4-0f84-4e55-d53b-3eb1e7bc6bea"
      },
      "execution_count": 11,
      "outputs": [
        {
          "output_type": "stream",
          "name": "stdout",
          "text": [
            "=== MODEL EVALUATION ===\n",
            "\n",
            "Decision Tree Results:\n",
            "  Accuracy:  0.7000\n",
            "  Precision: 0.6923\n",
            "  Recall:    0.6429\n",
            "  F1-Score:  0.6667\n",
            "------------------------------\n",
            "Naive Bayes Results:\n",
            "  Accuracy:  0.8833\n",
            "  Precision: 0.8889\n",
            "  Recall:    0.8571\n",
            "  F1-Score:  0.8727\n",
            "------------------------------\n",
            "KNN Results:\n",
            "  Accuracy:  0.7000\n",
            "  Precision: 0.7273\n",
            "  Recall:    0.5714\n",
            "  F1-Score:  0.6400\n",
            "------------------------------\n"
          ]
        }
      ]
    },
    {
      "cell_type": "code",
      "source": [
        "results_df = pd.DataFrame(results).T\n",
        "print(\"=== MODEL COMPARISON ===\")\n",
        "print(results_df.round(4))\n",
        "\n",
        "best_model = results_df['Accuracy'].idxmax()\n",
        "best_accuracy = results_df['Accuracy'].max()\n",
        "print(f\"\\nBest performing model: {best_model}\")\n",
        "print(f\"Best accuracy: {best_accuracy:.4f}\")\n"
      ],
      "metadata": {
        "colab": {
          "base_uri": "https://localhost:8080/"
        },
        "id": "l7VJNTq-NZ_k",
        "outputId": "855af131-99fa-45af-a529-320c92401ed5"
      },
      "execution_count": 12,
      "outputs": [
        {
          "output_type": "stream",
          "name": "stdout",
          "text": [
            "=== MODEL COMPARISON ===\n",
            "               Accuracy  Precision  Recall  F1-Score\n",
            "Decision Tree    0.7000     0.6923  0.6429    0.6667\n",
            "Naive Bayes      0.8833     0.8889  0.8571    0.8727\n",
            "KNN              0.7000     0.7273  0.5714    0.6400\n",
            "\n",
            "Best performing model: Naive Bayes\n",
            "Best accuracy: 0.8833\n"
          ]
        }
      ]
    },
    {
      "cell_type": "code",
      "source": [
        "fig, axes = plt.subplots(1, 3, figsize=(15, 5))\n",
        "\n",
        "for i, (name, model) in enumerate(trained_models.items()):\n",
        "    y_pred = model.predict(X_test)\n",
        "    cm = confusion_matrix(y_test, y_pred)\n",
        "\n",
        "    sns.heatmap(cm, annot=True, fmt='d', cmap='Greens',   # 👈 change here\n",
        "                ax=axes[i], cbar_kws={'shrink': 0.5})\n",
        "    axes[i].set_title(f'{name}\\nConfusion Matrix')\n",
        "    axes[i].set_xlabel('Predicted')\n",
        "    axes[i].set_ylabel('Actual')\n",
        "\n",
        "plt.tight_layout()\n",
        "plt.show()\n"
      ],
      "metadata": {
        "colab": {
          "base_uri": "https://localhost:8080/",
          "height": 479
        },
        "id": "GzuOlL4BNoWj",
        "outputId": "d4786316-d3cb-4bfc-ff8c-d28901d353b0"
      },
      "execution_count": 14,
      "outputs": [
        {
          "output_type": "display_data",
          "data": {
            "text/plain": [
              "<Figure size 1500x500 with 6 Axes>"
            ],
            "image/png": "[encoded data removed]"
          },
          "metadata": {}
        }
      ]
    },
    {
      "cell_type": "code",
      "source": [
        "metrics = ['Accuracy', 'Precision', 'Recall', 'F1-Score']\n",
        "x = np.arange(len(metrics))\n",
        "width = 0.25\n",
        "\n",
        "fig, ax = plt.subplots(figsize=(12, 6))\n",
        "\n",
        "colors = [\"#8FBC8F\", \"#98FB98\", \"#3CB371\", \"#2E8B57\"]\n",
        "\n",
        "for i, model_name in enumerate(results_df.index):\n",
        "    values = [results_df.loc[model_name, metric] for metric in metrics]\n",
        "    ax.bar(x + i * width, values, width, label=model_name,\n",
        "           alpha=0.8, color=colors[i % len(colors)])\n",
        "\n",
        "ax.set_xlabel('Metrics')\n",
        "ax.set_ylabel('Score')\n",
        "ax.set_title('Model Performance Comparison')\n",
        "ax.set_xticks(x + width)\n",
        "ax.set_xticklabels(metrics)\n",
        "ax.legend()\n",
        "ax.set_ylim(0, 1)\n",
        "\n",
        "# Add value labels on bars\n",
        "for i, model_name in enumerate(results_df.index):\n",
        "    values = [results_df.loc[model_name, metric] for metric in metrics]\n",
        "    for j, v in enumerate(values):\n",
        "        ax.text(j + i * width, v + 0.01, f'{v:.3f}',\n",
        "                ha='center', va='bottom', fontsize=9)\n",
        "\n",
        "plt.tight_layout()\n",
        "plt.show()"
      ],
      "metadata": {
        "colab": {
          "base_uri": "https://localhost:8080/",
          "height": 607
        },
        "id": "QFmYZdfbQie8",
        "outputId": "d65f98cd-1b60-4723-8831-4f882a6718cd"
      },
      "execution_count": 18,
      "outputs": [
        {
          "output_type": "display_data",
          "data": {
            "text/plain": [
              "<Figure size 1200x600 with 1 Axes>"
            ],
            "image/png": "[encoded data removed]"
          },
          "metadata": {}
        }
      ]
    },
    {
      "cell_type": "code",
      "source": [
        "from sklearn.model_selection import GridSearchCV\n",
        "\n",
        "print(\"=== HYPERPARAMETER TUNING (Optional) ===\\n\")\n",
        "\n",
        "# Define parameter grids\n",
        "param_grids = {\n",
        "    'Decision Tree': {\n",
        "        'max_depth': [3, 5, 7, 10],\n",
        "        'min_samples_split': [2, 5, 10],\n",
        "        'min_samples_leaf': [1, 2, 4]\n",
        "    },\n",
        "    'KNN': {\n",
        "        'n_neighbors': [3, 5, 7, 9, 11],\n",
        "        'weights': ['uniform', 'distance'],\n",
        "        'metric': ['euclidean', 'manhattan']\n",
        "    }\n",
        "}\n",
        "\n",
        "# Tune Decision Tree and KNN (Naive Bayes has fewer hyperparameters)\n",
        "tuned_models = {}\n",
        "\n",
        "for name in ['Decision Tree', 'KNN']:\n",
        "    print(f\"Tuning {name}...\")\n",
        "    base_model = DecisionTreeClassifier(random_state=42) if name == 'Decision Tree' else KNeighborsClassifier()\n",
        "\n",
        "    grid_search = GridSearchCV(\n",
        "        base_model, param_grids[name],\n",
        "        cv=5, scoring='accuracy', n_jobs=-1\n",
        "    )\n",
        "    grid_search.fit(X_train, y_train)\n",
        "\n",
        "    tuned_models[name] = grid_search.best_estimator_\n",
        "    print(f\"Best parameters for {name}: {grid_search.best_params_}\")\n",
        "    print(f\"Best CV score: {grid_search.best_score_:.4f}\")\n",
        "    print(\"-\" * 40)\n",
        "\n",
        "print(\"✓ Hyperparameter tuning completed!\")\n"
      ],
      "metadata": {
        "colab": {
          "base_uri": "https://localhost:8080/"
        },
        "id": "_af5Xx-vSjuE",
        "outputId": "f05b9052-2244-4ad0-a491-e7eaac43d788"
      },
      "execution_count": 19,
      "outputs": [
        {
          "output_type": "stream",
          "name": "stdout",
          "text": [
            "=== HYPERPARAMETER TUNING (Optional) ===\n",
            "\n",
            "Tuning Decision Tree...\n",
            "Best parameters for Decision Tree: {'max_depth': 3, 'min_samples_leaf': 1, 'min_samples_split': 2}\n",
            "Best CV score: 0.8012\n",
            "----------------------------------------\n",
            "Tuning KNN...\n",
            "Best parameters for KNN: {'metric': 'manhattan', 'n_neighbors': 5, 'weights': 'distance'}\n",
            "Best CV score: 0.6960\n",
            "----------------------------------------\n",
            "✓ Hyperparameter tuning completed!\n"
          ]
        }
      ]
    },
    {
      "cell_type": "code",
      "source": [
        "print(\"=== FINAL ANALYSIS AND CONCLUSIONS ===\\n\")\n",
        "\n",
        "# Evaluate tuned models if available\n",
        "if tuned_models:\n",
        "    print(\"Comparing original vs tuned models:\")\n",
        "\n",
        "    for name in tuned_models.keys():\n",
        "        # Original model performance\n",
        "        original_pred = trained_models[name].predict(X_test)\n",
        "        original_acc = accuracy_score(y_test, original_pred)\n",
        "\n",
        "        # Tuned model performance\n",
        "        tuned_pred = tuned_models[name].predict(X_test)\n",
        "        tuned_acc = accuracy_score(y_test, tuned_pred)\n",
        "\n",
        "        print(f\"{name}:\")\n",
        "        print(f\"  Original accuracy: {original_acc:.4f}\")\n",
        "        print(f\"  Tuned accuracy:    {tuned_acc:.4f}\")\n",
        "        print(f\"  Improvement:       {tuned_acc - original_acc:.4f}\")\n",
        "        print(\"-\" * 30)\n",
        "\n",
        "# Analysis of which model performs better and why\n",
        "print(\"\\nMODEL ANALYSIS:\")\n",
        "print(\"1. Performance Ranking:\")\n",
        "sorted_models = results_df.sort_values('Accuracy', ascending=False)\n",
        "for i, (model, row) in enumerate(sorted_models.iterrows(), 1):\n",
        "    print(f\"   {i}. {model}: {row['Accuracy']:.4f} accuracy\")\n",
        "\n",
        "print(f\"\\n2. Best Model Analysis:\")\n",
        "best_model = results_df['Accuracy'].idxmax()\n",
        "print(f\"   {best_model} performed best because:\")\n",
        "\n",
        "if best_model == 'KNN':\n",
        "    print(\"   - KNN captures local patterns well in medical data\")\n",
        "    print(\"   - Instance-based learning works well for heart disease features\")\n",
        "    print(\"   - Can handle non-linear relationships effectively\")\n",
        "elif best_model == 'Decision Tree':\n",
        "    print(\"   - Decision trees handle feature interactions well\")\n",
        "    print(\"   - Provides interpretable rules for medical diagnosis\")\n",
        "    print(\"   - Can capture non-linear patterns in the data\")\n",
        "else:\n",
        "    print(\"   - Naive Bayes works well when feature independence holds\")\n",
        "    print(\"   - Computationally efficient and robust\")\n",
        "    print(\"   - Good baseline performance on medical data\")\n",
        "\n",
        "\n"
      ],
      "metadata": {
        "colab": {
          "base_uri": "https://localhost:8080/"
        },
        "id": "e-jRTnV-SoJD",
        "outputId": "29ce0050-1373-4a0a-962e-de65bed6df9f"
      },
      "execution_count": 21,
      "outputs": [
        {
          "output_type": "stream",
          "name": "stdout",
          "text": [
            "=== FINAL ANALYSIS AND CONCLUSIONS ===\n",
            "\n",
            "Comparing original vs tuned models:\n",
            "Decision Tree:\n",
            "  Original accuracy: 0.7000\n",
            "  Tuned accuracy:    0.8000\n",
            "  Improvement:       0.1000\n",
            "------------------------------\n",
            "KNN:\n",
            "  Original accuracy: 0.7000\n",
            "  Tuned accuracy:    0.7500\n",
            "  Improvement:       0.0500\n",
            "------------------------------\n",
            "\n",
            "MODEL ANALYSIS:\n",
            "1. Performance Ranking:\n",
            "   1. Naive Bayes: 0.8833 accuracy\n",
            "   2. Decision Tree: 0.7000 accuracy\n",
            "   3. KNN: 0.7000 accuracy\n",
            "\n",
            "2. Best Model Analysis:\n",
            "   Naive Bayes performed best because:\n",
            "   - Naive Bayes works well when feature independence holds\n",
            "   - Computationally efficient and robust\n",
            "   - Good baseline performance on medical data\n"
          ]
        }
      ]
    }
  ]
}